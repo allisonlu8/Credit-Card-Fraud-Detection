{
 "cells": [
  {
   "attachments": {},
   "cell_type": "markdown",
   "metadata": {},
   "source": [
    "## Exploration"
   ]
  },
  {
   "cell_type": "code",
   "execution_count": 1,
   "metadata": {},
   "outputs": [
    {
     "name": "stdout",
     "output_type": "stream",
     "text": [
      "train.csv shape is  (555719, 23)\n",
      "test.csv shape is  (69465, 2)\n",
      "\n",
      "       Id trans_date_trans_time        cc_num  \\\n",
      "0  205743      01/09/2020 08:22  5.596350e+15   \n",
      "1  465349      12/12/2020 07:42  4.311370e+18   \n",
      "2   17312      27/06/2020 13:03  2.264940e+15   \n",
      "3  234968      14/09/2020 04:12  2.224100e+15   \n",
      "4  194255      28/08/2020 17:40  3.527540e+15   \n",
      "\n",
      "                              merchant       category      amt    first  \\\n",
      "0                      fraud_Berge LLC  gas_transport    72.18   Joseph   \n",
      "1  fraud_Eichmann, Bogan and Rodriguez  gas_transport    36.66  Phillip   \n",
      "2              fraud_Ankunding-Carroll         travel     1.74     Juan   \n",
      "3     fraud_Schumm, Bauch and Ondricka    grocery_pos   140.99    Sheri   \n",
      "4                    fraud_Gerlach Inc   shopping_net  1722.19   Teresa   \n",
      "\n",
      "       last gender                        street  ...      lat      long  \\\n",
      "0     Moody      M              5901 Foster Pine  ...  29.9912  -90.2479   \n",
      "1  Delacruz      M     26678 Lisa Locks Apt. 904  ...  40.7692 -103.0968   \n",
      "2   Sherman      M  5939 Garcia Forges Suite 297  ...  29.3641  -98.4924   \n",
      "3    Thomas      F   019 Kimberly Light Apt. 039  ...  30.7906  -81.5607   \n",
      "4     Stein      F    2838 White Fields Apt. 473  ...  32.9413  -81.1807   \n",
      "\n",
      "   city_pop                    job         dob  \\\n",
      "0     68211    Engineer, petroleum  23/04/1941   \n",
      "1       648  Community arts worker  21/09/1969   \n",
      "2   1595797                   Land  17/10/1995   \n",
      "3      1293        Naval architect  11/09/1963   \n",
      "4      1725      Social researcher  05/12/1974   \n",
      "\n",
      "                          trans_num   unix_time  merch_lat  merch_long  \\\n",
      "0  5223f3d810e0083482e47a5c3a1eba94  1378023768  30.424083  -90.080958   \n",
      "1  25f3a9b8613a9745c5802031bd3a2c62  1386834132  39.871664 -103.457961   \n",
      "2  2a6f3f7c697bc721a80078aefd68d857  1372338223  28.456118  -98.491336   \n",
      "3  fcd03eb50b00fe682d8a47f3bec089a6  1379131971  31.292136  -82.002506   \n",
      "4  d3105e269285b69b334e99433d6a6585  1377711655  33.067620  -80.201090   \n",
      "\n",
      "   is_fraud  \n",
      "0       0.0  \n",
      "1       0.0  \n",
      "2       0.0  \n",
      "3       0.0  \n",
      "4       0.0  \n",
      "\n",
      "[5 rows x 23 columns]\n",
      "\n",
      "       Id  is_fraud\n",
      "0  488867       NaN\n",
      "1  147015       NaN\n",
      "2  213848       NaN\n",
      "3  527654       NaN\n",
      "4  318500       NaN\n",
      "\n",
      "                  Id        cc_num            amt            zip  \\\n",
      "count  555719.000000  5.557190e+05  555719.000000  555719.000000   \n",
      "mean   277859.000000  4.178387e+17      69.392810   48842.628015   \n",
      "std    160422.401459  1.309837e+18     156.745941   26855.283328   \n",
      "min         0.000000  6.041621e+10       1.000000    1257.000000   \n",
      "25%    138929.500000  1.800430e+14       9.630000   26292.000000   \n",
      "50%    277859.000000  3.521420e+15      47.290000   48174.000000   \n",
      "75%    416788.500000  4.635330e+15      83.010000   72011.000000   \n",
      "max    555718.000000  4.992350e+18   22768.110000   99921.000000   \n",
      "\n",
      "                 lat           long      city_pop     unix_time  \\\n",
      "count  555719.000000  555719.000000  5.557190e+05  5.557190e+05   \n",
      "mean       38.543253     -90.231325  8.822189e+04  1.380679e+09   \n",
      "std         5.061336      13.721780  3.003909e+05  5.201104e+06   \n",
      "min        20.027100    -165.672300  2.300000e+01  1.371817e+09   \n",
      "25%        34.668900     -96.798000  7.410000e+02  1.376029e+09   \n",
      "50%        39.371600     -87.476900  2.408000e+03  1.380762e+09   \n",
      "75%        41.894800     -80.175200  1.968500e+04  1.385867e+09   \n",
      "max        65.689900     -67.950300  2.906700e+06  1.388534e+09   \n",
      "\n",
      "           merch_lat     merch_long      is_fraud  \n",
      "count  555719.000000  555719.000000  486254.00000  \n",
      "mean       38.542798     -90.231380       0.00386  \n",
      "std         5.095829      13.733071       0.06201  \n",
      "min        19.027422    -166.671575       0.00000  \n",
      "25%        34.755302     -96.905129       0.00000  \n",
      "50%        39.376593     -87.445204       0.00000  \n",
      "75%        41.954163     -80.264637       0.00000  \n",
      "max        66.679297     -66.952026       1.00000  \n"
     ]
    },
    {
     "data": {
      "image/png": "[encoded data removed]",
      "text/plain": [
       "<Figure size 640x480 with 1 Axes>"
      ]
     },
     "metadata": {},
     "output_type": "display_data"
    }
   ],
   "source": [
    "import pandas as pd\n",
    "import matplotlib.pyplot as plt\n",
    "\n",
    "trainingSet = pd.read_csv(\"./data/train.csv\")\n",
    "testingSet = pd.read_csv(\"./data/test.csv\")\n",
    "\n",
    "print(\"train.csv shape is \", trainingSet.shape)\n",
    "print(\"test.csv shape is \", testingSet.shape)\n",
    "\n",
    "print()\n",
    "\n",
    "print(trainingSet.head())\n",
    "print()\n",
    "print(testingSet.head())\n",
    "\n",
    "print()\n",
    "\n",
    "print(trainingSet.describe())\n",
    "\n",
    "trainingSet['is_fraud'].value_counts().plot(kind='bar', legend=True, alpha=.5)\n",
    "plt.title(\"Count of Fraud\")\n",
    "plt.show()"
   ]
  },
  {
   "attachments": {},
   "cell_type": "markdown",
   "metadata": {},
   "source": [
    "## Feature Extraction"
   ]
  },
  {
   "cell_type": "code",
   "execution_count": 8,
   "metadata": {},
   "outputs": [],
   "source": [
    "import pandas as pd\n",
    "import numpy as np\n",
    "from geopy.distance import geodesic\n",
    "\n",
    "def process(df):\n",
    "    # This is where you can do all your processing\n",
    "    date_time = pd.to_datetime(df['trans_date_trans_time'], format='%d/%m/%Y %H:%M')\n",
    "\n",
    "    df['trans_date'] = date_time.dt.date[0]\n",
    "    df['trans_time'] = date_time.dt.time[0]\n",
    "    df.drop(columns='trans_date_trans_time', inplace=True)\n",
    "\n",
    "    #df['another feature]\n",
    "    return df\n",
    "\n",
    "# Function to calculate transaction frequency and transaction amount deviation\n",
    "def calculate_features(df):\n",
    "    # Transaction frequency / cardholder\n",
    "    transaction_counts_cardholder = df.groupby('cc_num')['trans_num'].count().reset_index()\n",
    "    transaction_counts_cardholder.rename(columns={'trans_num': 'transaction_count_cardholder'}, inplace=True)\n",
    "    df = pd.merge(df, transaction_counts_cardholder, on='cc_num', how='left')\n",
    "\n",
    "    # Transaction frequency per merchant\n",
    "    transaction_counts_merchant = df.groupby('merchant')['trans_num'].count().reset_index()\n",
    "    transaction_counts_merchant.rename(columns={'trans_num': 'transaction_count_merchant'}, inplace=True)\n",
    "    df = pd.merge(df, transaction_counts_merchant, on='merchant', how='left')\n",
    "\n",
    "    # Transaction frequency per cardholder-merchant pair\n",
    "    transaction_counts_cardholder_merchant = df.groupby(['cc_num', 'merchant'])['trans_num'].count().reset_index()\n",
    "    transaction_counts_cardholder_merchant.rename(columns={'trans_num': 'transaction_count_cardholder_merchant'}, inplace=True)\n",
    "    df = pd.merge(df, transaction_counts_cardholder_merchant, on=['cc_num', 'merchant'], how='left')\n",
    "\n",
    "    # Transaction amount deviation\n",
    "    #transaction_amount_deviation = df.groupby('cc_num')['amt'].std().reset_index()\n",
    "    #transaction_amount_deviation.rename(columns={'amt': 'transaction_amount_deviation'}, inplace=True)\n",
    "    #df = pd.merge(df, transaction_amount_deviation, on='cc_num', how='left')\n",
    "\n",
    "    return df\n",
    "\n",
    "# Function to calculate geographical features\n",
    "#def calculate_geographical_features(df):\n",
    "    # Calculate distance between cardholder's location and merchant's location\n",
    " #   df['distance'] = df.apply(lambda x: geodesic((x['lat'], x['long']), (x['merch_lat'], x['merch_long'])).miles, axis=1)\n",
    "    \n",
    "  #  return df\n",
    "\n",
    "\n",
    "# Load the dataset\n",
    "trainingSet = pd.read_csv(\"./data/train.csv\")\n",
    "\n",
    "# Process the DataFrame\n",
    "train_processed = process(trainingSet)\n",
    "train_processed = calculate_features(train_processed)\n",
    "#train_processed = calculate_geographical_features(train_processed)\n",
    "\n",
    "# Load test set\n",
    "submissionSet = pd.read_csv(\"./data/test.csv\")\n",
    "\n",
    "# Merge on Id so that the test set can have feature columns as well\n",
    "testX= pd.merge(train_processed, submissionSet, left_on='Id', right_on='Id')\n",
    "testX = testX.drop(columns=['is_fraud_x'])\n",
    "testX = testX.rename(columns={'is_fraud_y': 'is_fraud'})\n",
    "\n",
    "# The training set is where the score is not null\n",
    "trainX =  train_processed[train_processed['is_fraud'].notnull()]\n",
    "\n",
    "# Save the datasets with the new features for easy access later\n",
    "testX.to_csv(\"./data/X_test.csv\", index=False)\n",
    "trainX.to_csv(\"./data/X_train.csv\", index=False)"
   ]
  },
  {
   "attachments": {},
   "cell_type": "markdown",
   "metadata": {},
   "source": [
    "## Creating your model"
   ]
  },
  {
   "cell_type": "code",
   "execution_count": 9,
   "metadata": {},
   "outputs": [
    {
     "name": "stdout",
     "output_type": "stream",
     "text": [
      "Index(['Id', 'cc_num', 'amt', 'zip', 'lat', 'long', 'city_pop', 'unix_time',\n",
      "       'merch_lat', 'merch_long', 'transaction_count_cardholder',\n",
      "       'transaction_count_merchant', 'transaction_count_cardholder_merchant'],\n",
      "      dtype='object')\n",
      "Accuracy on testing set =  0.9993665887927347\n",
      "F1 score on testing set =  0.917470525187567\n"
     ]
    },
    {
     "data": {
      "image/png": "[encoded data removed]",
      "text/plain": [
       "<Figure size 640x480 with 2 Axes>"
      ]
     },
     "metadata": {},
     "output_type": "display_data"
    }
   ],
   "source": [
    "import pickle\n",
    "import pandas as pd\n",
    "import seaborn as sns\n",
    "import matplotlib.pyplot as plt\n",
    "from sklearn.neighbors import KNeighborsClassifier\n",
    "from sklearn.model_selection import train_test_split\n",
    "from sklearn.metrics import accuracy_score, confusion_matrix, f1_score\n",
    "\n",
    "# Load training set with new features into DataFrame\n",
    "X_train = pd.read_csv(\"./data/X_train.csv\")\n",
    "\n",
    "# Split training set into training and testing set\n",
    "X_train, X_test, Y_train, Y_test = train_test_split(\n",
    "        X_train.drop(['is_fraud'], axis=1),\n",
    "        X_train['is_fraud'],\n",
    "        test_size= 1/4.0,\n",
    "        random_state=42\n",
    "    )\n",
    "\n",
    "# This is where you can do more feature selection\n",
    "X_train_processed = X_train._get_numeric_data()\n",
    "print(X_train_processed.columns)\n",
    "X_test_processed = X_test._get_numeric_data()\n",
    "\n",
    "# Log Transformation\n",
    "X_train['log_amt'] = np.log1p(X_train['amt'])\n",
    "\n",
    "# Scaling\n",
    "from sklearn.preprocessing import StandardScaler\n",
    "scaler = StandardScaler()\n",
    "numerical_features = ['amt', 'transaction_count_cardholder', 'transaction_count_merchant', 'transaction_count_cardholder_merchant']# 'transaction_amount_deviation']\n",
    "X_train[numerical_features] = scaler.fit_transform(X_train[numerical_features])\n",
    "\n",
    "# Binning\n",
    "X_train['binned_amt'] = pd.cut(X_train['amt'], bins=5, labels=False)\n",
    "\n",
    "# Define class weights\n",
    "class_weights = {0: 1, 1: 10}  # Adjust the weights as per your requirement\n",
    "\n",
    "# Learn the model --> KNeighborsClassifier\n",
    "model = KNeighborsClassifier(n_neighbors=3, weights = 'distance', n_jobs=3)  # Initialize KNeighborsClassifier with desired parameters (e.g., n_neighbors)\n",
    "model.fit(X_train_processed, Y_train)\n",
    "\n",
    "# pickle model - saves it so you can load it later\n",
    "with open('knn_model.obj', 'wb') as f:\n",
    "        pickle.dump(model, f)\n",
    "# to load pickled model: \n",
    "# with open('filename', 'rb') as f:\n",
    "#    model = pickle.load(f)\n",
    "\n",
    "# Evaluate your model on the testing set\n",
    "Y_test_predictions = model.predict(X_test_processed)\n",
    "print(\"Accuracy on testing set = \", accuracy_score(Y_test, Y_test_predictions))\n",
    "print(\"F1 score on testing set = \", f1_score(Y_test, Y_test_predictions))\n",
    "\n",
    "# Plot a confusion matrix\n",
    "cm = confusion_matrix(Y_test, Y_test_predictions)\n",
    "sns.heatmap(cm, annot=True)\n",
    "plt.title('Confusion matrix of the classifier')\n",
    "plt.xlabel('Predicted')\n",
    "plt.ylabel('True')\n",
    "plt.show()\n",
    "\n",
    "#Accuracy on testing set =  0.9993665887927347\n",
    "#F1 score on testing set =  0.917470525187567"
   ]
  },
  {
   "attachments": {},
   "cell_type": "markdown",
   "metadata": {},
   "source": [
    "## Create the Kaggle submission"
   ]
  },
  {
   "cell_type": "code",
   "execution_count": 10,
   "metadata": {},
   "outputs": [
    {
     "name": "stdout",
     "output_type": "stream",
     "text": [
      "Index(['Id', 'cc_num', 'amt', 'zip', 'lat', 'long', 'city_pop', 'unix_time',\n",
      "       'merch_lat', 'merch_long', 'transaction_count_cardholder',\n",
      "       'transaction_count_merchant', 'transaction_count_cardholder_merchant'],\n",
      "      dtype='object')\n"
     ]
    }
   ],
   "source": [
    "X_submission = pd.read_csv(\"./data/X_test.csv\")\n",
    "X_submission_processed = X_submission._get_numeric_data().drop(columns=['is_fraud'])\n",
    "print(X_submission_processed.columns)\n",
    "\n",
    "X_submission['is_fraud'] = model.predict(X_submission_processed)\n",
    "X_submission.is_fraud = X_submission.is_fraud.astype(int)\n",
    "submission = X_submission[['Id', 'is_fraud']]\n",
    "submission.to_csv(\"./data/submission.csv\", index=False)"
   ]
  },
  {
   "attachments": {},
   "cell_type": "markdown",
   "metadata": {},
   "source": [
    "Now you can upload the `submission.csv` to kaggle"
   ]
  }
 ],
 "metadata": {
  "kernelspec": {
   "display_name": "Python 3 (ipykernel)",
   "language": "python",
   "name": "python3"
  },
  "language_info": {
   "codemirror_mode": {
    "name": "ipython",
    "version": 3
   },
   "file_extension": ".py",
   "mimetype": "text/x-python",
   "name": "python",
   "nbconvert_exporter": "python",
   "pygments_lexer": "ipython3",
   "version": "3.12.2"
  },
  "orig_nbformat": 4,
  "vscode": {
   "interpreter": {
    "hash": "e7370f93d1d0cde622a1f8e1c04877d8463912d04d973331ad4851f04de6915a"
   }
  }
 },
 "nbformat": 4,
 "nbformat_minor": 2
}
